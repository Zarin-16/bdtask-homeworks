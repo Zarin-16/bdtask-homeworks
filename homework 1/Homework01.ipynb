{
  "nbformat": 4,
  "nbformat_minor": 0,
  "metadata": {
    "colab": {
      "provenance": []
    },
    "kernelspec": {
      "name": "python3",
      "display_name": "Python 3"
    },
    "language_info": {
      "name": "python"
    }
  },
  "cells": [
    {
      "cell_type": "code",
      "execution_count": 1,
      "metadata": {
        "colab": {
          "base_uri": "https://localhost:8080/"
        },
        "id": "PuCCgQMq4jVr",
        "outputId": "794b58e1-99b2-4e00-b406-e15dc2e8cf89"
      },
      "outputs": [
        {
          "output_type": "stream",
          "name": "stdout",
          "text": [
            "5\n",
            "factorial of a given number: 120\n"
          ]
        }
      ],
      "source": [
        "# 1. Write a program to use the loop to find the factorial of a given number.\n",
        "n = int(input())\n",
        "j =  1\n",
        "for i in range(1,n+1,1):\n",
        "  j = j*i\n",
        "print(\"factorial of a given number:\",j)"
      ]
    },
    {
      "cell_type": "code",
      "source": [
        "# 2. Write a program to print the following start pattern using the loop.\n",
        "count = 0\n",
        "for i in range(1,10):\n",
        "  if i <= 5:\n",
        "    count +=1\n",
        "  else:\n",
        "    count -=1\n",
        "  for j in range(1,count+1):\n",
        "    print(\"*\", end=' ')\n",
        "    \n",
        "  print('')"
      ],
      "metadata": {
        "colab": {
          "base_uri": "https://localhost:8080/"
        },
        "id": "QxjD0zaO4uDp",
        "outputId": "19cf7918-b513-4563-e77b-39cf41639423"
      },
      "execution_count": 2,
      "outputs": [
        {
          "output_type": "stream",
          "name": "stdout",
          "text": [
            "* \n",
            "* * \n",
            "* * * \n",
            "* * * * \n",
            "* * * * * \n",
            "* * * * \n",
            "* * * \n",
            "* * \n",
            "* \n"
          ]
        }
      ]
    },
    {
      "cell_type": "code",
      "source": [
        "#2. or from user input\n",
        "n = int(input())\n",
        "for i in range(1,n+1):\n",
        "  for j in range(1,i+1):\n",
        "    print(\"*\", end = ' ')\n",
        "  print('')\n",
        "for x in range(n-1,0,-1):\n",
        "  for y in range(x,0,-1):\n",
        "    print(\"*\", end =' ')\n",
        "  print('')"
      ],
      "metadata": {
        "colab": {
          "base_uri": "https://localhost:8080/"
        },
        "id": "5UmlapI94xK4",
        "outputId": "911ccd55-23d1-449d-e4e9-ab77d91c9998"
      },
      "execution_count": 3,
      "outputs": [
        {
          "output_type": "stream",
          "name": "stdout",
          "text": [
            "5\n",
            "* \n",
            "* * \n",
            "* * * \n",
            "* * * * \n",
            "* * * * * \n",
            "* * * * \n",
            "* * * \n",
            "* * \n",
            "* \n"
          ]
        }
      ]
    },
    {
      "cell_type": "code",
      "source": [
        "# 3. Write a program to iterate a given list and count the occurrence of each element and create a dictionary to show the count of each element. \n",
        "# — sample_list = [11, 45, 8, 11, 23, 45, 23, 45, 89]\n",
        "# —  Printing count of each item   {11: 2, 45: 3, 8: 1, 23: 2, 89: 1}\n",
        "\n",
        "sample_list = [11, 45, 8, 11, 23, 45, 23, 45, 89]\n",
        "count = 0\n",
        "my_dictionary = {}\n",
        "for i in sample_list:\n",
        "  for j in range(0,len(sample_list)):\n",
        "    if i == sample_list[j]:\n",
        "      count +=1\n",
        "    \n",
        "  my_dictionary[i] = count\n",
        "  count = 0\n",
        "print(my_dictionary)"
      ],
      "metadata": {
        "colab": {
          "base_uri": "https://localhost:8080/"
        },
        "id": "Wuybcpo347WI",
        "outputId": "0c2e3ed1-7e20-404c-df92-379e1104551a"
      },
      "execution_count": 4,
      "outputs": [
        {
          "output_type": "stream",
          "name": "stdout",
          "text": [
            "{11: 2, 45: 3, 8: 1, 23: 2, 89: 1}\n"
          ]
        }
      ]
    },
    {
      "cell_type": "code",
      "source": [
        "# 4. Remove special symbols from a string.\n",
        "\n",
        "my_string = input()\n",
        "new_string = ''\n",
        "for i in my_string :\n",
        "  if i.isalnum():\n",
        "    new_string +=i\n",
        "print(new_string)"
      ],
      "metadata": {
        "colab": {
          "base_uri": "https://localhost:8080/"
        },
        "id": "GdWdh2tP49Jw",
        "outputId": "0fe429dc-12e6-41a6-de7b-7f90d21fc5f2"
      },
      "execution_count": 5,
      "outputs": [
        {
          "output_type": "stream",
          "name": "stdout",
          "text": [
            "zar@#in\n",
            "zarin\n"
          ]
        }
      ]
    }
  ]
}